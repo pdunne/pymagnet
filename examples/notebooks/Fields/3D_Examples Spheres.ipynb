{
 "cells": [
  {
   "cell_type": "code",
   "execution_count": null,
   "id": "5adcdf21",
   "metadata": {},
   "outputs": [],
   "source": [
    "if 'google.colab' in str(get_ipython()):\n",
    "    print('Running on CoLab. Installing package from pypi')\n",
    "    %pip install pymagnet -q\n",
    "else:\n",
    "    print('Not running on CoLab.')"
   ]
  },
  {
   "cell_type": "code",
   "execution_count": null,
   "id": "sharing-borough",
   "metadata": {},
   "outputs": [],
   "source": [
    "%matplotlib inline\n",
    "# %matplotlib notebook\n",
    "%config InlineBackend.figure_format = 'retina'\n",
    "import pymagnet as pm\n",
    "import numpy as np"
   ]
  },
  {
   "cell_type": "markdown",
   "id": "julian-sleep",
   "metadata": {},
   "source": [
    "First define convenience functions, alpha, beta, gamma are the rotation angles with respect to z,y x axes"
   ]
  },
  {
   "cell_type": "code",
   "execution_count": null,
   "id": "located-respondent",
   "metadata": {},
   "outputs": [],
   "source": [
    "def gen_sphere(alpha=0, beta=0, gamma=0, **kwargs):\n",
    "    pm.reset()\n",
    "\n",
    "    radius = 10\n",
    "    hGap = kwargs.pop('hGap', 1)\n",
    "    mask_magnet = kwargs.pop('mask_magnet', True)\n",
    "        \n",
    "    \n",
    "    center = (0,0, 0)\n",
    "    m1 = pm.magnets.Sphere(radius = radius, Jr = 1.0, center=center,\n",
    "                              alpha = alpha,\n",
    "                              beta = beta,\n",
    "                              gamma = gamma,\n",
    "                              mask_magnet=mask_magnet)\n",
    "    \n",
    "    return m1\n"
   ]
  },
  {
   "cell_type": "code",
   "execution_count": null,
   "id": "5f6430c7",
   "metadata": {},
   "outputs": [],
   "source": [
    "mask_magnet = False # mask values with NaN inside a magnet\n",
    "show_magnets = True # draw magnet in plots\n",
    "\n",
    "m1 = gen_sphere(alpha=0, beta=0, gamma=0, mask_magnet = mask_magnet)\n",
    "\n",
    "\n",
    "fig_slice, slice_cache, data_objects = pm.plots.slice_quickplot(cmax=0.5,\n",
    "                                              num_levels=11,\n",
    "                                              opacity=1.0,\n",
    "                                              num_arrows=10,\n",
    "                                              num_points=200,\n",
    "                                              cone_opacity=0.9,\n",
    "                                              magnet_opacity=1.0,\n",
    "                                              mask_magnet = mask_magnet,\n",
    "                                              show_magnets=show_magnets,\n",
    "                                              colorscale='viridis',\n",
    "                                              max1 = 20,\n",
    "                                              max2 = 20,\n",
    "                                              slice_value= 0.0,\n",
    "                                              unit = 'mm'\n",
    "                               )"
   ]
  },
  {
   "cell_type": "code",
   "execution_count": null,
   "id": "55de936b",
   "metadata": {
    "scrolled": false
   },
   "outputs": [],
   "source": [
    "for plane in slice_cache.keys():\n",
    "    pm.plots.plot_3D_contour(slice_cache[plane]['points'], slice_cache[plane]['field'], plane,\n",
    "                             cmin = 0,\n",
    "                             cmax=0.5,\n",
    "                             num_levels=11,               \n",
    "#                              num_arrows = 21,\n",
    "#                              vector_color = 'k'\n",
    "                            )\n"
   ]
  },
  {
   "cell_type": "code",
   "execution_count": null,
   "id": "e8f393c2",
   "metadata": {},
   "outputs": [],
   "source": [
    "for plane in slice_cache.keys():\n",
    "    pm.plots.plot_3D_contour(slice_cache[plane]['points'], slice_cache[plane]['field'], plane,\n",
    "                             cmin = 0,\n",
    "                             cmax=0.5,\n",
    "                             num_levels=6,               \n",
    "                             plot_type=\"streamplot\",\n",
    "                             cmap='copper',\n",
    "                             stream_color= 'normal'\n",
    "                            )"
   ]
  }
 ],
 "metadata": {
  "kernelspec": {
   "display_name": "Python 3",
   "language": "python",
   "name": "python3"
  },
  "language_info": {
   "codemirror_mode": {
    "name": "ipython",
    "version": 3
   },
   "file_extension": ".py",
   "mimetype": "text/x-python",
   "name": "python",
   "nbconvert_exporter": "python",
   "pygments_lexer": "ipython3",
   "version": "3.9.7"
  }
 },
 "nbformat": 4,
 "nbformat_minor": 5
}
