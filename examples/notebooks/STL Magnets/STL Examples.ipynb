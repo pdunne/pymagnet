{
 "cells": [
  {
   "cell_type": "markdown",
   "id": "778f91f4",
   "metadata": {},
   "source": [
    "# Mesh Magnets\n",
    "\n",
    "Here we will show examples of importing STL meshes as magnets."
   ]
  },
  {
   "cell_type": "code",
   "execution_count": null,
   "id": "75a7a41c",
   "metadata": {},
   "outputs": [],
   "source": [
    "if 'google.colab' in str(get_ipython()):\n",
    "    print('Running on CoLab. Installing package from pypi')\n",
    "    %pip install pymagnet -q\n",
    "    print(\"Getting stl files\")\n",
    "    !mkdir stl\n",
    "    !wget https://raw.githubusercontent.com/pdunne/pymagnet/main/examples/notebooks/STL%20Magnets/stl/HalfDonut.stl -O stl/HalfDonut.stl -q\n",
    "    !wget https://github.com/pdunne/pymagnet/raw/main/examples/notebooks/STL%20Magnets/stl/hollow_hex.stl -O stl/hollow_hex.stl -q\n",
    "    !wget https://github.com/pdunne/pymagnet/raw/main/examples/notebooks/STL%20Magnets/stl/star.stl -O stl/star.stl -q\n",
    "    !wget https://github.com/pdunne/pymagnet/raw/main/examples/notebooks/STL%20Magnets/stl/cube.stl -O stl/cube.stl -q\n",
    "    !wget https://github.com/pdunne/pymagnet/raw/main/examples/notebooks/STL%20Magnets/stl/pentagon_prism.stl -O stl/pentagon_prism.stl -q\n",
    "    print(\"Done.\")\n",
    "else:\n",
    "    print('Not running on CoLab.')"
   ]
  },
  {
   "cell_type": "code",
   "execution_count": null,
   "id": "ee47f817",
   "metadata": {},
   "outputs": [],
   "source": [
    "%matplotlib inline\n",
    "# %matplotlib notebook\n",
    "%config InlineBackend.figure_format = 'retina'\n",
    "import pymagnet as pm\n",
    "import numpy as np"
   ]
  },
  {
   "cell_type": "code",
   "execution_count": null,
   "id": "46656ddc",
   "metadata": {},
   "outputs": [],
   "source": [
    "PI = np.pi\n",
    "\n",
    "\n",
    "def gen_mesh_mag(path, file, Jr=1.0, theta=0, phi=0, alpha=0, beta=0, gamma=0):\n",
    "    pm.reset()\n",
    "    center = (0, 0, 0)\n",
    "    m_mesh = pm.magnets.Mesh(\n",
    "        path + file,\n",
    "        Jr=Jr,\n",
    "        center=center,\n",
    "        theta=theta,\n",
    "        phi=phi,\n",
    "        alpha=alpha,\n",
    "        beta=beta,\n",
    "        gamma=gamma,\n",
    "    )\n",
    "    return m_mesh"
   ]
  },
  {
   "cell_type": "markdown",
   "id": "be2338ae",
   "metadata": {},
   "source": [
    "The below code will import an STL file, \"HalfDonut\" and render it. The plot should look like:\n",
    "\n",
    "![Donut Mesh](img/donut_mesh.png)\n"
   ]
  },
  {
   "cell_type": "code",
   "execution_count": null,
   "id": "e8cb2701",
   "metadata": {
    "scrolled": false
   },
   "outputs": [],
   "source": [
    "mask_magnet = False  # mask values inside a magnet - doesn't work for Mesh magnets\n",
    "show_magnets = True  # draw magnet in plots\n",
    "\n",
    "mesh_list = [\"hollow_hex.stl\", \"cube.stl\", \"star.stl\", \"pentagon_prism.stl\", \"HalfDonut.stl\"]\n",
    "\n",
    "mesh_file = mesh_list[4] # change from 0 - 4 to see different magnets\n",
    "\n",
    "mesh_magnet = gen_mesh_mag(\n",
    "    path ='stl/',\n",
    "    file = mesh_file,\n",
    "    Jr=1.0,\n",
    "    theta=0,\n",
    "    phi=0,\n",
    "    alpha=0,\n",
    "    beta=0,\n",
    "    gamma=0,\n",
    ")\n",
    "\n",
    "mask_magnet = False  # mask values inside a magnet - doesn't work for Mesh magnets\n",
    "show_magnets = True  # draw magnet in plots\n",
    "\n",
    "mesh_list = [\"hollow_hex.stl\", \"cube.stl\", \"star.stl\", \"pentagon_prism.stl\", \"HalfDonut.stl\"]\n",
    "\n",
    "mesh_file = mesh_list[4] # change from 0 - 4 to see different magnets\n",
    "\n",
    "mesh_magnet = gen_mesh_mag(\n",
    "    path ='stl/',\n",
    "    file = mesh_file,\n",
    "    Jr=1.0,\n",
    "    theta=0,\n",
    "    phi=0,\n",
    "    alpha=0,\n",
    "    beta=0,\n",
    "    gamma=0,\n",
    ")\n",
    "\n",
    "print(f\"{mesh_file} has {len(mesh_magnet.mesh_vectors)} simplexes\")\n",
    "\n",
    "fig = pm.plots.plot_magnet()\n"
   ]
  },
  {
   "cell_type": "markdown",
   "id": "9b912670",
   "metadata": {},
   "source": [
    "A slice plot which should look like:\n",
    "\n",
    "![Slice Volume](img/donut_slice.png)\n"
   ]
  },
  {
   "cell_type": "code",
   "execution_count": null,
   "id": "5ea630b8",
   "metadata": {},
   "outputs": [],
   "source": [
    "fig, slice_cache, data_objects = pm.plots.slice_quickplot(\n",
    "    cmax=0.3,\n",
    "    num_levels=6,\n",
    "    num_points=40,\n",
    "    opacity=0.7,\n",
    "    num_arrows=10,\n",
    "    cone_opacity=0.3,\n",
    "    show_magnets=True,\n",
    "    max1=2,\n",
    "    max2=2,\n",
    "    slice_value=0.0,\n",
    ")"
   ]
  },
  {
   "cell_type": "markdown",
   "id": "e8e3e82b",
   "metadata": {},
   "source": [
    "2D contour slices can be generated for each plane in the generated data"
   ]
  },
  {
   "cell_type": "code",
   "execution_count": null,
   "id": "73c8b1f7",
   "metadata": {
    "scrolled": false
   },
   "outputs": [],
   "source": [
    "for plane in slice_cache.keys():\n",
    "    pm.plots.plot_3D_contour(slice_cache[plane]['points'], slice_cache[plane]['field'], plane,\n",
    "                             cmin = 0,\n",
    "                             cmax=0.3,\n",
    "                             num_levels=7,\n",
    "                             cmap='viridis',\n",
    "#                              num_arrows = 11,\n",
    "#                              vector_color = 'k'\n",
    "                            )"
   ]
  },
  {
   "cell_type": "markdown",
   "id": "4ba85d7f",
   "metadata": {},
   "source": [
    "A volume plot which should look like:\n",
    "\n",
    "![Donut Volume](img/donut_volume.png)\n"
   ]
  },
  {
   "cell_type": "code",
   "execution_count": null,
   "id": "ab45baf0",
   "metadata": {},
   "outputs": [],
   "source": [
    "fig_vol, vol_cache, data_objects = pm.plots.volume_quickplot(cmin=0.0,\n",
    "                                    cmax=0.5,\n",
    "                                    opacity=0.3,\n",
    "                                    magnet_opacity=1.0,\n",
    "                                    no_caps=True,\n",
    "                                    num_levels=6,\n",
    "                                    num_points=30,\n",
    "                                    show_magnets = True,\n",
    "                                    xmax = 2,\n",
    "                                    ymax = 2,\n",
    "                                    zmax = 2,\n",
    "                                    unit = 'mm',\n",
    "                                    opacityscale = 'normal',\n",
    "#                                     isomin=0.05,\n",
    "#                                     isomax=0.5,\n",
    "                                   )\n"
   ]
  }
 ],
 "metadata": {
  "kernelspec": {
   "display_name": "Python 3",
   "language": "python",
   "name": "python3"
  },
  "language_info": {
   "codemirror_mode": {
    "name": "ipython",
    "version": 3
   },
   "file_extension": ".py",
   "mimetype": "text/x-python",
   "name": "python",
   "nbconvert_exporter": "python",
   "pygments_lexer": "ipython3",
   "version": "3.9.7"
  }
 },
 "nbformat": 4,
 "nbformat_minor": 5
}
