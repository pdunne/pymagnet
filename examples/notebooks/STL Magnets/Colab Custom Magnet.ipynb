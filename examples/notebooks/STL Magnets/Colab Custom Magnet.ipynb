{
 "cells": [
  {
   "cell_type": "markdown",
   "id": "684b3264",
   "metadata": {},
   "source": [
    "# Colab Custom Magnet\n",
    "\n",
    "This is an example of uploading one or more STL files to Colab, and then running the magnetic field calculation in the cloud. "
   ]
  },
  {
   "cell_type": "code",
   "execution_count": null,
   "id": "74dd9ef9",
   "metadata": {},
   "outputs": [],
   "source": [
    "if 'google.colab' in str(get_ipython()):\n",
    "    print('Running on CoLab. Installing pymagnet package from pypi')\n",
    "    %pip install pymagnet -q\n",
    "    from google.colab import files\n",
    "    print(\"===============================================\")\n",
    "    print(\"Please browse and upload one or more stl files:\")\n",
    "    uploaded = files.upload() \n",
    "else:\n",
    "    print('Not running on CoLab.')"
   ]
  },
  {
   "cell_type": "markdown",
   "metadata": {},
   "source": [
    "## Import the needed modules\n",
    "\n",
    "If there is a `NumbaWarning` about the TBB threading layer, this can be safely ignored. The default version of TBB on COLAB doesn't support parallelised Numba functions. This applies only to STL `MeshMagnet` types, where the field calculation routine is run in serial mode instead "
   ]
  },
  {
   "cell_type": "code",
   "execution_count": null,
   "id": "6f6401b0",
   "metadata": {},
   "outputs": [],
   "source": [
    "%matplotlib inline\n",
    "# %matplotlib notebook\n",
    "%config InlineBackend.figure_format = 'retina'\n",
    "import pymagnet as pm\n",
    "import numpy as np\n",
    "import pandas as pd"
   ]
  },
  {
   "cell_type": "markdown",
   "metadata": {},
   "source": [
    "## Prepare magnet helper function"
   ]
  },
  {
   "cell_type": "code",
   "execution_count": null,
   "id": "7fd57ad2",
   "metadata": {},
   "outputs": [],
   "source": [
    "def gen_mesh_mag(file, Jr=1.0, theta=0, phi=0, alpha=0, beta=0, gamma=0):\n",
    "    pm.reset()\n",
    "    center = (0, 0, 0)\n",
    "    m_mesh = pm.magnets.Mesh(\n",
    "        file,\n",
    "        Jr=Jr,\n",
    "        center=center,\n",
    "        theta=theta,\n",
    "        phi=phi,\n",
    "        alpha=alpha,\n",
    "        beta=beta,\n",
    "        gamma=gamma,\n",
    "    )\n",
    "    return m_mesh\n"
   ]
  },
  {
   "cell_type": "markdown",
   "metadata": {},
   "source": [
    "The below code will import all uploaded files, and list them:"
   ]
  },
  {
   "cell_type": "code",
   "execution_count": null,
   "metadata": {},
   "outputs": [],
   "source": [
    "for file in uploaded.keys():\n",
    "  if file[-3:].lower() == 'stl':\n",
    "    print(file)"
   ]
  },
  {
   "cell_type": "markdown",
   "metadata": {},
   "source": [
    "Choose one file and render it:\n",
    "\n",
    "**WARNING**\n",
    "\n",
    "If the file has more than 500 simplexes the calcuation will take more than a few seconds. This is because the outer loops over magnet and simplex occur in Python, while the actual field calculations for each simplex at all points is done at a lower level thanks to Numba and Numpy.\n",
    "\n",
    "This limitation will be redressed with the move to Rust for the backend.\n"
   ]
  },
  {
   "cell_type": "code",
   "execution_count": null,
   "metadata": {},
   "outputs": [],
   "source": [
    "example_file = list(uploaded.keys())[0]\n",
    "\n",
    "\n",
    "mesh_magnet = gen_mesh_mag(\n",
    "    file = example_file,\n",
    "    Jr=1.0,\n",
    "    theta=0,\n",
    "    phi=0,\n",
    "    alpha=0,\n",
    "    beta=-90,\n",
    "    gamma=0,\n",
    ")\n",
    "\n",
    "# Useful for setting automatic ranges on field calculations below\n",
    "max_x = mesh_magnet.mesh_vectors[:,:,0].max()\n",
    "max_y = mesh_magnet.mesh_vectors[:,:,1].max()\n",
    "max_z = mesh_magnet.mesh_vectors[:,:,2].max()\n",
    "max_all = np.max([max_x, max_y, max_z])\n",
    "\n",
    "\n",
    "print(f\"{example_file} has {len(mesh_magnet.mesh_vectors)} simplexes\")\n",
    "\n",
    "fig = pm.plots.plot_magnet()"
   ]
  },
  {
   "cell_type": "markdown",
   "metadata": {},
   "source": [
    "Calculate and plot the field along three principal planes using the `slice_quickplot` convenience function:"
   ]
  },
  {
   "cell_type": "code",
   "execution_count": null,
   "metadata": {},
   "outputs": [],
   "source": [
    "fig, slice_cache, data_objects = pm.plots.slice_quickplot(\n",
    "    cmax=0.5,\n",
    "    num_levels=6,\n",
    "    num_points=100,\n",
    "    opacity=0.7,\n",
    "    num_arrows=10,\n",
    "    cone_opacity=0.3,\n",
    "    show_magnets=True,\n",
    "    max1=np.around(max_all*1.3),\n",
    "    max2=np.around(max_all*1.3),\n",
    "    slice_value=0.0,\n",
    ")"
   ]
  },
  {
   "cell_type": "markdown",
   "metadata": {},
   "source": [
    "The calcualtions are stored in the `slice_cache`, meaning we can replot this data as 2D contour slices can be generated for each plane in the generated data"
   ]
  },
  {
   "cell_type": "code",
   "execution_count": null,
   "metadata": {},
   "outputs": [],
   "source": [
    "for plane in slice_cache.keys():\n",
    "    pm.plots.plot_3D_contour(slice_cache[plane]['points'], slice_cache[plane]['field'], plane,\n",
    "                             cmin = 0,\n",
    "                             cmax=0.5,\n",
    "                             num_levels=6,\n",
    "#                              num_arrows = 20,\n",
    "#                              vector_color = 'k'\n",
    "                            )"
   ]
  },
  {
   "cell_type": "markdown",
   "metadata": {},
   "source": [
    "Or replot the 3D data:"
   ]
  },
  {
   "cell_type": "code",
   "execution_count": null,
   "metadata": {},
   "outputs": [],
   "source": [
    "fig=pm.plots.slice_plot(slice_cache,\n",
    "                        cmin = 0,\n",
    "                        cmax=0.3,\n",
    "                        num_levels=7,\n",
    "                        cmap='viridis',\n",
    "                        opacity = 0.8,\n",
    "#                              num_arrows = 20,\n",
    "#                              vector_color = 'k'\n",
    "                        )"
   ]
  },
  {
   "cell_type": "markdown",
   "metadata": {},
   "source": [
    "Saving can be done using your preferred method, a simple but inefficient way is to use the hdf capabilities of pandas:"
   ]
  },
  {
   "cell_type": "code",
   "execution_count": null,
   "metadata": {},
   "outputs": [],
   "source": [
    "save_file = example_file[:-4] + \"slices.h5\"\n",
    "\n",
    "print(f\"Saving to: {save_file}\")\n",
    "cache_df = pd.DataFrame(slice_cache)\n",
    "cache_df.to_hdf(save_file, key=example_file[:-4]) "
   ]
  },
  {
   "cell_type": "markdown",
   "metadata": {},
   "source": [
    "Volume plots can be quickly calculated and rendered using the `volume_quickplot` method:"
   ]
  },
  {
   "cell_type": "code",
   "execution_count": null,
   "metadata": {},
   "outputs": [],
   "source": [
    "fig_vol, vol_cache, data_objects = pm.plots.volume_quickplot(cmin=0.0,\n",
    "                                    cmax=0.4,\n",
    "                                    opacity=0.3,\n",
    "                                    magnet_opacity=1.0,\n",
    "                                    num_levels=6,\n",
    "                                    num_points=30,\n",
    "                                    show_magnets = True,\n",
    "                                    xmax = np.around(max_all*1.3),\n",
    "                                    ymax = np.around(max_all*1.3),\n",
    "                                    zmax = np.around(max_all*1.3),\n",
    "                                    unit = 'mm',\n",
    "                                    opacityscale = 'max',\n",
    "                                   )"
   ]
  },
  {
   "cell_type": "markdown",
   "metadata": {},
   "source": [
    "With the resultant data, `vol_cache` being replotted using `volume_plot`\n"
   ]
  },
  {
   "cell_type": "code",
   "execution_count": null,
   "metadata": {},
   "outputs": [],
   "source": [
    "fig=pm.plots.volume_plot(vol_cache['points'], vol_cache['field'],\n",
    "                         cmin = 0,\n",
    "                         cmax=0.3,\n",
    "                         num_levels=7,\n",
    "                         opacity = 0.3,\n",
    "                         magnet_opacity=0.8,\n",
    "                         vector_arrows = 20,\n",
    "                         opacityscale='max'\n",
    "                        )"
   ]
  }
 ],
 "metadata": {
  "kernelspec": {
   "display_name": "Python 3",
   "language": "python",
   "name": "python3"
  },
  "language_info": {
   "codemirror_mode": {
    "name": "ipython",
    "version": 3
   },
   "file_extension": ".py",
   "mimetype": "text/x-python",
   "name": "python",
   "nbconvert_exporter": "python",
   "pygments_lexer": "ipython3",
   "version": "3.8.8"
  }
 },
 "nbformat": 4,
 "nbformat_minor": 5
}
