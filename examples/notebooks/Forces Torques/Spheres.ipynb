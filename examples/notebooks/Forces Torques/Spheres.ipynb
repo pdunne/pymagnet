{
 "cells": [
  {
   "cell_type": "markdown",
   "id": "def55546",
   "metadata": {},
   "source": [
    "# Forces and Torques Between Spheres\n",
    "\n"
   ]
  },
  {
   "cell_type": "code",
   "execution_count": null,
   "id": "c346f6b1",
   "metadata": {},
   "outputs": [],
   "source": [
    "if 'google.colab' in str(get_ipython()):\n",
    "    print('Running on CoLab. Installing package from pypi')\n",
    "    %pip install pymagnet -q\n",
    "else:\n",
    "    print('Not running on CoLab.')"
   ]
  },
  {
   "cell_type": "code",
   "execution_count": null,
   "id": "40cbb418",
   "metadata": {},
   "outputs": [],
   "source": [
    "import numpy as np\n",
    "import pymagnet as pm\n",
    "%matplotlib inline\n",
    "# %matplotlib notebook\n",
    "\n",
    "%config InlineBackend.figure_format = 'retina'\n",
    "import matplotlib.pyplot as plt\n",
    "# from numba import njit, guvectorize\n",
    "PI = np.pi\n",
    "MU0 = 4e-7*PI"
   ]
  },
  {
   "cell_type": "code",
   "execution_count": null,
   "id": "88f29def",
   "metadata": {},
   "outputs": [],
   "source": [
    "def plot_force_result(offsets,f_total, spacing=None, compare=None, plot_type='force'):\n",
    "    fig,ax = plt.subplots(figsize=(8,8))\n",
    "    \n",
    "    if plot_type.lower() == 'torque':\n",
    "        labels = [ r\"$\\tau_x$\", r\"$\\tau_y$\", r\"$\\tau_z$\"]\n",
    "    else:\n",
    "        labels = [ r\"$F_x$\", r\"$F_y$\", r\"$F_z$\"]\n",
    "    \n",
    "    plt.plot(offsets,f_total[:,0], label=labels[0])\n",
    "    plt.plot(offsets,f_total[:,1], label=labels[1])\n",
    "    plt.plot(offsets,f_total[:,2], label=labels[2])\n",
    "    \n",
    "    if spacing is not None and compare is not None:\n",
    "        plt.scatter(spacing,compare[0])\n",
    "        plt.scatter(spacing,compare[1])\n",
    "        plt.scatter(spacing,compare[2])\n",
    "\n",
    "    plt.legend(loc='best')\n",
    "    if plot_type.lower() == 'torque':\n",
    "        plt.ylabel(r'$\\tau$ (mN.m)')\n",
    "    else:\n",
    "        plt.ylabel(r'$F$ (N)')\n",
    "    plt.xlabel(r\"$d$ (mm)\")\n",
    "    plt.grid(True)\n",
    "    plt.show()"
   ]
  },
  {
   "cell_type": "code",
   "execution_count": null,
   "id": "2a9c1df0",
   "metadata": {},
   "outputs": [],
   "source": [
    "def gen_sphere_magnets(offset = 0, **kwargs):\n",
    "    pm.reset()\n",
    "\n",
    "    radius = 10\n",
    "\n",
    "    mask_magnet = kwargs.pop('mask_magnet', 'nan')\n",
    "    alpha = kwargs.pop('alpha', 0)\n",
    "    beta = kwargs.pop('beta', 0)\n",
    "    gamma = kwargs.pop('gamma', 0)\n",
    "\n",
    "    # magnetised in y: \n",
    "    theta, phi = 0.0, 0.0\n",
    " \n",
    "    \n",
    "    m1 = None\n",
    "    center = (0,0, -radius - offset/2)\n",
    "    m1 = pm.magnets.Sphere(radius = radius, Jr = 1.0, center=center,\n",
    "                              alpha = 0,\n",
    "                              beta = 0,\n",
    "                              gamma = 0,\n",
    "                              mask_magnet=mask_magnet)\n",
    "    \n",
    "    center = (1,-3, radius + offset/2)\n",
    "    m2 = pm.magnets.Sphere(radius = radius, Jr = 1.0, center=center,\n",
    "                              alpha = alpha,\n",
    "                              beta = beta,\n",
    "                              gamma = gamma,\n",
    "                              mask_magnet=mask_magnet)\n",
    "    \n",
    "   \n",
    "    return m1, m2\n"
   ]
  },
  {
   "cell_type": "markdown",
   "id": "250cb408",
   "metadata": {},
   "source": [
    "3D Render:\n",
    "![Sphere Slice](img/sphere_slice.png)"
   ]
  },
  {
   "cell_type": "code",
   "execution_count": null,
   "id": "f7fa2c82",
   "metadata": {
    "scrolled": false
   },
   "outputs": [],
   "source": [
    "mask_magnet = True\n",
    "m1, m2 = gen_sphere_magnets(offset = 5, alpha=20, beta=60, gamma=30)\n",
    "\n",
    "fig_slice, slice_cache, data_objects = pm.plots.slice_quickplot(cmax=0.5,\n",
    "                                              num_levels=11,\n",
    "                                              opacity=1.0,\n",
    "                                              num_arrows=10,\n",
    "                                              num_points=200,\n",
    "                                              cone_opacity=0.9,\n",
    "                                              magnet_opacity=1.0,\n",
    "                                              mask_magnet = mask_magnet,\n",
    "                                              show_magnets=True,\n",
    "                                              max1 = 40,\n",
    "                                              max2 = 40,\n",
    "                                              slice_value= 0.0,\n",
    "                                              unit = 'mm'\n",
    "                               )"
   ]
  },
  {
   "cell_type": "code",
   "execution_count": null,
   "id": "c4e98e8c",
   "metadata": {
    "scrolled": false
   },
   "outputs": [],
   "source": [
    "force_points = 20\n",
    "offsets = np.linspace(1,10,force_points)\n",
    "\n",
    "f_total = np.zeros((force_points,3))\n",
    "t_total = np.zeros((force_points,3))\n",
    "unit = 'mm'\n",
    "\n",
    "for i in range(force_points):\n",
    "    m1, m2 = gen_sphere_magnets(offset = offsets[i], alpha=20, beta=60, gamma=30)\n",
    "    active_magnet = m2\n",
    "    f_total[i], t_total[i] = m2.get_force_torque(num_samples = 300, unit=unit)\n",
    "\n",
    "\n"
   ]
  },
  {
   "cell_type": "code",
   "execution_count": null,
   "id": "ff378a4f",
   "metadata": {},
   "outputs": [],
   "source": [
    "plot_force_result(offsets,f_total, None, None, plot_type='force')\n",
    "plot_force_result(offsets,t_total*1e3, None, None, plot_type='torque')\n",
    "\n",
    "fig, ax = plt.subplots(figsize=(8,8))\n",
    "plt.plot(offsets, np.fabs(f_total[:,0]), 'o-' , label='Fx')\n",
    "plt.plot(offsets, np.fabs(f_total[:,1]), 'o-' , label='Fy')\n",
    "\n",
    "plt.plot(offsets, np.fabs(f_total[:,2]), 'o-' , label='Fz')\n",
    "ax.set_xscale('log')\n",
    "ax.set_yscale('log')\n",
    "\n",
    "plt.grid(True)\n",
    "plt.legend()\n",
    "plt.show()"
   ]
  },
  {
   "cell_type": "code",
   "execution_count": null,
   "id": "9d6999da",
   "metadata": {},
   "outputs": [],
   "source": [
    "plot_force_result(offsets,f_total, None, None, plot_type='force')\n",
    "# plot_force_result(offsets,t_total*1e3, None, None, plot_type='torque')\n",
    "\n",
    "fig, ax = plt.subplots(figsize=(8,8))\n",
    "\n",
    "plt.plot(offsets, np.fabs(f_total[:,2]), 'o-' , label='F')\n",
    "ax.set_xscale('log')\n",
    "ax.set_yscale('log')\n",
    "\n",
    "plt.grid(True)\n",
    "plt.legend()\n",
    "plt.show()"
   ]
  },
  {
   "cell_type": "markdown",
   "id": "69501f71",
   "metadata": {},
   "source": [
    "### Check Error Limits\n",
    "\n",
    "To get the minimum number of points on the surface (=num_points<sup>3</sup> )"
   ]
  },
  {
   "cell_type": "code",
   "execution_count": null,
   "id": "d0884cba",
   "metadata": {
    "scrolled": true
   },
   "outputs": [],
   "source": [
    "m1, m2 = gen_sphere_magnets(offset = 1)\n",
    "\n",
    "num_points = np.arange(10,1100, 10, dtype=np.intc)\n",
    "\n",
    "f_total = np.zeros((len(num_points),3))\n",
    "t_total = np.zeros((len(num_points),3))\n",
    "\n",
    "unit='mm'\n",
    "\n",
    "for i in range(len(num_points)):\n",
    "    f_total[i], t_total[i] = m2.get_force_torque(num_samples = num_points[i], unit=unit)\n",
    "\n",
    "    \n",
    "f_norm_01 = np.linalg.norm(f_total, axis=1)"
   ]
  },
  {
   "cell_type": "code",
   "execution_count": null,
   "id": "2533cee6",
   "metadata": {
    "scrolled": true
   },
   "outputs": [],
   "source": [
    "m1, m2 = gen_sphere_magnets(offset = 10)\n",
    "active_magnet = m2\n",
    "\n",
    "num_points = np.arange(10,1100, 10, dtype=np.intc)\n",
    "\n",
    "f_total = np.zeros((len(num_points),3))\n",
    "t_total = np.zeros((len(num_points),3))\n",
    "\n",
    "unit='mm'\n",
    "\n",
    "for i in range(len(num_points)):\n",
    "    f_total[i], t_total[i] = pm.forces.calc_force_sphere(active_magnet, num_samples = num_points[i], unit=unit)\n",
    "\n",
    "f_norm_10 = np.linalg.norm(f_total, axis=1)"
   ]
  },
  {
   "cell_type": "code",
   "execution_count": null,
   "id": "f67e226c",
   "metadata": {
    "scrolled": false
   },
   "outputs": [],
   "source": [
    "fig, ax = plt.subplots(figsize=(8,8))\n",
    "plt.plot(num_points, np.fabs((f_norm_01 - f_norm_01[-1])*100/f_norm_01[-1]), 'o-' , label='z = 1')\n",
    "\n",
    "plt.plot(num_points, np.fabs((f_norm_10 - f_norm_10[-1])*100/f_norm_10[-1]), 'o-' , label='z = 10')\n",
    "ax.set_yscale('log')\n",
    "plt.grid(True)\n",
    "plt.legend()\n",
    "plt.show()"
   ]
  }
 ],
 "metadata": {
  "kernelspec": {
   "display_name": "Python 3",
   "language": "python",
   "name": "python3"
  },
  "language_info": {
   "codemirror_mode": {
    "name": "ipython",
    "version": 3
   },
   "file_extension": ".py",
   "mimetype": "text/x-python",
   "name": "python",
   "nbconvert_exporter": "python",
   "pygments_lexer": "ipython3",
   "version": "3.9.7"
  }
 },
 "nbformat": 4,
 "nbformat_minor": 5
}
