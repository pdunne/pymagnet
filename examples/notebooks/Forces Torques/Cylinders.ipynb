{
 "cells": [
  {
   "cell_type": "markdown",
   "id": "2c35bee8",
   "metadata": {},
   "source": [
    "# Forces and Torques Between Cylinders\n",
    "\n"
   ]
  },
  {
   "cell_type": "code",
   "execution_count": null,
   "id": "9d08ac30",
   "metadata": {},
   "outputs": [],
   "source": [
    "if 'google.colab' in str(get_ipython()):\n",
    "    print('Running on CoLab. Installing package from pypi')\n",
    "    %pip install pymagnet -q\n",
    "else:\n",
    "    print('Not running on CoLab.')"
   ]
  },
  {
   "cell_type": "code",
   "execution_count": null,
   "id": "40cbb418",
   "metadata": {},
   "outputs": [],
   "source": [
    "import numpy as np\n",
    "import pymagnet as pm\n",
    "%matplotlib inline\n",
    "# %matplotlib notebook\n",
    "\n",
    "%config InlineBackend.figure_format = 'retina'\n",
    "import matplotlib.pyplot as plt\n",
    "\n",
    "PI = np.pi\n",
    "MU0 = 4e-7*PI"
   ]
  },
  {
   "cell_type": "code",
   "execution_count": null,
   "id": "6a08e64f",
   "metadata": {},
   "outputs": [],
   "source": [
    "def plot_force_result(offsets,f_total, spacing=None, compare=None, plot_type='force', custom_units=None):\n",
    "    _, _ = plt.subplots(figsize=(8,8))\n",
    "    \n",
    "    if plot_type.lower() == 'torque':\n",
    "        labels = [ r\"$\\tau_x$\", r\"$\\tau_y$\", r\"$\\tau_z$\"]\n",
    "    else:\n",
    "        labels = [ r\"$F_x$\", r\"$F_y$\", r\"$F_z$\"]\n",
    "    \n",
    "    plt.plot(offsets,f_total[:,0], label=labels[0])\n",
    "    plt.plot(offsets,f_total[:,1], label=labels[1])\n",
    "    plt.plot(offsets,f_total[:,2], label=labels[2])\n",
    "    \n",
    "    if spacing is not None and compare is not None:\n",
    "        plt.scatter(spacing,compare[0])\n",
    "        plt.scatter(spacing,compare[1])\n",
    "        plt.scatter(spacing,compare[2])\n",
    "\n",
    "    plt.legend(loc='best')\n",
    "    if custom_units is None:\n",
    "        if plot_type.lower() == 'torque':\n",
    "            plt.ylabel(r'$\\tau$ (mN.m)')\n",
    "        else:\n",
    "            plt.ylabel(r'$F$ (N)')\n",
    "    else:\n",
    "         plt.ylabel(custom_units)\n",
    "    plt.xlabel(r\"$d$ (mm)\")\n",
    "    plt.grid(True)\n",
    "    plt.show()"
   ]
  },
  {
   "cell_type": "code",
   "execution_count": null,
   "id": "647d2446",
   "metadata": {},
   "outputs": [],
   "source": [
    "# def gen_cylinders(offset_z=0.0):\n",
    "\n",
    "#     pm.reset()\n",
    "\n",
    "#     center = (0, 0, 0 -20)    \n",
    "#     radius = 12.7   \n",
    "#     length_1 = 9.5\n",
    "#     alpha = 0\n",
    "#     beta = 0\n",
    "#     gamma = 0\n",
    "#     mask_magnet = False # mask values inside a magnet\n",
    "#     show_magnets = True\n",
    "\n",
    "#     m1 = pm.magnets.Cylinder(radius = radius, length = length_1, Jr = 0.89,\n",
    "#                                 center=center,\n",
    "#                                 theta = 0, phi = 0,\n",
    "#                                 alpha = alpha,\n",
    "#                                 beta = beta,\n",
    "#                                 gamma = gamma,\n",
    "#                                 mask_magnet=mask_magnet)\n",
    "#     radius = 6.35\n",
    "#     length_2 = 4.85\n",
    "\n",
    "#     gap = 0\n",
    "#     center = (-3, 3, length_1/2 + length_2/2 + offset_z -20)    \n",
    "\n",
    "#     m2 = pm.magnets.Cylinder(radius = radius, length = length_2, Jr = -0.92,\n",
    "#                                 center=center,\n",
    "#                                 theta = 0, phi = 0,\n",
    "#                                 alpha = alpha,\n",
    "#                                 beta = beta,\n",
    "#                                 gamma = gamma,\n",
    "#                                 mask_magnet=mask_magnet)\n",
    "#     return m1, m2"
   ]
  },
  {
   "cell_type": "code",
   "execution_count": null,
   "id": "3fc5d556",
   "metadata": {},
   "outputs": [],
   "source": [
    "# compare = np.zeros((3,30))\n",
    "# spacing = np.array([5.943,6.764,7.632,8.548,9.479,10.41,11.358,12.32,13.268,14.23,16.188,18.145,20.087,25.075,30.047,39.98,49.984,59.929])\n",
    "# compare[2] = -1*np.array([6.912,5.725,4.766,4.01,3.4,2.903,2.493,2.162,1.879,1.647,1.275,0.996,0.79,0.454,0.275,0.114,0.055,0.03])\n",
    "# spacing = np.array([0.042,3.008,3.475,4.725,5.021,6.377,7.86,9.343,10.89,12.394,13.814,15.36,16.864,16.822,18.114,18.475,19.894,21.271,22.839,24.343,25.805,27.267,28.835,30.212,31.78,33.305,34.767,36.292,37.775,39.195])\n",
    "# compare[2] = np.array([9.036,8.31,8.352,7.577,7.577,6.55,5.454,4.49,3.652,3.01,2.472,2.011,1.697,1.592,1.369,1.355,1.131,0.971,0.775,0.663,0.566,0.482,0.426,0.363,0.335,0.279,0.272,0.223,0.203,0.161])\n"
   ]
  },
  {
   "cell_type": "markdown",
   "id": "0fc58314",
   "metadata": {},
   "source": [
    "Comparison data from \n",
    "\n",
    "R. Ravaud, G. Lemarquand, S. Babic, V. Lemarquand, and C. Akyel, Cylindrical Magnets and Coils: Fields, Forces, and Inductances, IEEE Transactions on Magnetics 46, 3585 (2010).\n"
   ]
  },
  {
   "cell_type": "code",
   "execution_count": null,
   "id": "0431ef6c",
   "metadata": {},
   "outputs": [],
   "source": [
    "def gen_cylinders(offset_z=0.0, alpha = 0, beta = 0, gamma = 0):\n",
    "\n",
    "    pm.reset()\n",
    "\n",
    "    Jr = 8e3*MU0\n",
    "    mask_magnet = False # mask values inside a magnet\n",
    "    show_magnets = True\n",
    "    \n",
    "    radius = 87.5   \n",
    "    length_1 = 25\n",
    "\n",
    "    center = (0, 0, -length_1/2 - offset_z/2)    \n",
    "\n",
    "    m1 = pm.magnets.Cylinder(radius = radius, length = length_1, Jr = Jr,\n",
    "                                center=center,\n",
    "                                theta = 0, phi = 0,\n",
    "                                alpha = alpha,\n",
    "                                beta = beta,\n",
    "                                gamma = gamma,\n",
    "                                mask_magnet=mask_magnet)\n",
    "    radius = 87.5\n",
    "    length_2 = 25\n",
    "\n",
    "    gap = 0\n",
    "    center = (0, 0, length_2/2 + offset_z/2)    \n",
    "    alpha = 0\n",
    "    beta = 0\n",
    "    gamma = 0\n",
    "    m2 = pm.magnets.Cylinder(radius = radius, length = length_2, Jr = Jr,\n",
    "                                center=center,\n",
    "                                theta = 0, phi = 0,\n",
    "                                alpha = alpha,\n",
    "                                beta = beta,\n",
    "                                gamma = gamma,\n",
    "                                mask_magnet=mask_magnet)\n",
    "    return m1, m2"
   ]
  },
  {
   "cell_type": "markdown",
   "id": "a3a8d4cd",
   "metadata": {},
   "source": [
    "Comparison data from \n",
    "\n",
    "R. Ravaud, G. Lemarquand, S. Babic, V. Lemarquand, and C. Akyel, Cylindrical Magnets and Coils: Fields, Forces, and Inductances, IEEE Transactions on Magnetics 46, 3585 (2010).\n"
   ]
  },
  {
   "cell_type": "code",
   "execution_count": null,
   "id": "645bc6a5",
   "metadata": {},
   "outputs": [],
   "source": [
    "m1,m2 = gen_cylinders(offset_z=5)\n",
    "\n",
    "\n",
    "num_samples=20\n",
    "unit = 'mm'\n",
    "\n",
    "\n",
    "force, torque = m1.get_force_torque(num_samples = num_samples, unit=unit)\n",
    "\n",
    "print(force)\n",
    "print(torque*1e3)"
   ]
  },
  {
   "cell_type": "code",
   "execution_count": null,
   "id": "972c80a5",
   "metadata": {
    "scrolled": false
   },
   "outputs": [],
   "source": [
    "spacing = np.array([5, 10, 50, 100, 500])\n",
    "compare = np.zeros((3, 5))\n",
    "compare[2] = np.array([157, 123.7977, 38.8386, 14.281, 0.160674])\n",
    "\n",
    "\n",
    "\n",
    "\n",
    "num_segments = 40\n",
    "force_points = 201\n",
    "offsets = np.linspace(1,1000,force_points)\n",
    "\n",
    "f_total = np.zeros((force_points,3))\n",
    "t_total = np.zeros((force_points,3))\n",
    "unit = 'mm'\n",
    "\n",
    "for i in range(force_points):\n",
    "    m1, m2 = gen_cylinders(offset_z = offsets[i])\n",
    "    f_total[i], t_total[i] = m1.get_force_torque(num_samples = num_samples, unit=unit)\n",
    "\n",
    "    \n",
    "# print(\"NOTE FORCES ARE ACTUALLY mN NOT N!\")\n",
    "plot_force_result(offsets,f_total*1e3, spacing, compare, plot_type='force', custom_units=r\"$F$ (mN)\")\n",
    "# plot_force_result(offsets,t_total*1e3, None, None, plot_type='torque')"
   ]
  },
  {
   "cell_type": "markdown",
   "id": "fc65c16e",
   "metadata": {},
   "source": [
    "3D Rendering:\n",
    "![Ravaud 2010](img/ravaud2010.png)"
   ]
  },
  {
   "cell_type": "code",
   "execution_count": null,
   "id": "d7dd71af",
   "metadata": {},
   "outputs": [],
   "source": [
    "mask_magnet = False\n",
    "m1, m2 = gen_cylinders(offset_z = 40)\n",
    "fig_slice, slice_cache, data_objects = pm.plots.slice_quickplot(cmax=0.005,\n",
    "                                              num_levels=11,\n",
    "                                              opacity=1.0,\n",
    "                                              num_arrows=10,\n",
    "                                              num_points=200,\n",
    "                                              cone_opacity=0.9,\n",
    "                                              magnet_opacity=1.0,\n",
    "                                              mask_magnet = mask_magnet,\n",
    "                                              show_magnets=True,\n",
    "                                              max1 = 120,\n",
    "                                              max2 = 120,\n",
    "                                              slice_value= 0.0,\n",
    "                                              unit = 'mm'\n",
    "                               )"
   ]
  },
  {
   "cell_type": "code",
   "execution_count": null,
   "id": "94c9a784",
   "metadata": {},
   "outputs": [],
   "source": [
    "def gen_cylinders_small(offset_z=0.0, alpha = 0, beta = 0, gamma = 0, repulsive=True):\n",
    "\n",
    "    pm.reset()\n",
    "\n",
    "    Jr = 1.0\n",
    "    mask_magnet = False # mask values inside a magnet\n",
    "    show_magnets = True\n",
    "    \n",
    "    radius = 20   \n",
    "    length_1 = 5\n",
    "\n",
    "    center = (0, 0, -length_1/2 - offset_z/2)    \n",
    "\n",
    "    m1 = pm.magnets.Cylinder(radius = radius, length = length_1, Jr = Jr,\n",
    "                                center=center,\n",
    "                                theta = 0, phi = 0,\n",
    "                                alpha = alpha,\n",
    "                                beta = beta,\n",
    "                                gamma = gamma,\n",
    "                                mask_magnet=mask_magnet)\n",
    "    radius = 20   \n",
    "    length_2 = 5\n",
    "\n",
    "    gap = 0\n",
    "    center = (5, -5, length_2/2 + offset_z/2)    \n",
    "    alpha = 0\n",
    "    beta = 0\n",
    "    gamma = 0\n",
    "    if repulsive:\n",
    "        Jr *= -1\n",
    "    m2 = pm.magnets.Cylinder(radius = radius, length = length_2, Jr = Jr,\n",
    "                                center=center,\n",
    "                                theta = 0, phi = 0,\n",
    "                                alpha = alpha,\n",
    "                                beta = beta,\n",
    "                                gamma = gamma,\n",
    "                                mask_magnet=mask_magnet)\n",
    "    return m1, m2"
   ]
  },
  {
   "cell_type": "code",
   "execution_count": null,
   "id": "0da3d493",
   "metadata": {},
   "outputs": [],
   "source": [
    "\n",
    "num_samples = 40\n",
    "force_points = 201\n",
    "offsets = np.linspace(15,100,force_points)\n",
    "\n",
    "f_total = np.zeros((force_points,3))\n",
    "t_total = np.zeros((force_points,3))\n",
    "unit = 'mm'\n",
    "\n",
    "for i in range(force_points):\n",
    "    m1, m2 = gen_cylinders_small(offset_z = offsets[i],alpha=0, beta= 30, gamma=20)\n",
    "    f_total[i], t_total[i] = m1.get_force_torque(num_samples=num_samples, unit=unit)\n",
    "\n",
    "\n",
    "plot_force_result(offsets,f_total, None, None, plot_type='force')\n",
    "plot_force_result(offsets,t_total*1e3, None, None, plot_type='torque')"
   ]
  },
  {
   "cell_type": "markdown",
   "id": "f6c2e324",
   "metadata": {},
   "source": [
    "3D Rendering:\n",
    "![Discs slice](img/rotated_discs_slice.png)"
   ]
  },
  {
   "cell_type": "code",
   "execution_count": null,
   "id": "23c5fdaf",
   "metadata": {},
   "outputs": [],
   "source": [
    "m1, m2 = gen_cylinders_small(offset_z = 15,alpha=0, beta= 30, gamma=20)\n",
    "fig_slice, slice_cache, data_objects = pm.plots.slice_quickplot(cmax=0.3,\n",
    "                                              num_levels=7,\n",
    "                                              opacity=1.0,\n",
    "                                              num_arrows=10,\n",
    "                                              num_points=200,\n",
    "                                              cone_opacity=0.9,\n",
    "                                              magnet_opacity=1.0,\n",
    "                                              mask_magnet = 'nan',\n",
    "                                              show_magnets=True,\n",
    "                                              colorscale='viridis',\n",
    "                                              max1 = 30,\n",
    "                                              max2 = 30,\n",
    "                                              slice_value= 0.0,\n",
    "                                              unit = 'mm'\n",
    "                               )"
   ]
  },
  {
   "cell_type": "code",
   "execution_count": null,
   "id": "5c7f573d",
   "metadata": {},
   "outputs": [],
   "source": [
    "for plane in slice_cache.keys():\n",
    "    pm.plots.plot_3D_contour(slice_cache[plane]['points'], slice_cache[plane]['field'], plane,\n",
    "                             cmin = 0,\n",
    "                             cmax=0.3,\n",
    "                             num_levels=7,\n",
    "                             cmap='viridis',\n",
    "                             \n",
    "#                              num_arrows = 21,\n",
    "#                              vector_color = 'k'\n",
    "#                              plot_type=\"streamplot\",\n",
    "    #                          stream_color= 'vertical'\n",
    "                            )\n"
   ]
  },
  {
   "cell_type": "markdown",
   "id": "d2765658",
   "metadata": {},
   "source": [
    "3D Rendering:\n",
    "![Discs Volume](img/rotated_discs_volume.png)"
   ]
  },
  {
   "cell_type": "code",
   "execution_count": null,
   "id": "8355cb94",
   "metadata": {},
   "outputs": [],
   "source": [
    "fig_vol, vol_cache, data_objects = pm.plots.volume_quickplot(cmin=0.0,\n",
    "                                    cmax=0.3,\n",
    "                                    opacity=0.3,\n",
    "                                    magnet_opacity=1.0,\n",
    "                                    no_caps=True,\n",
    "                                    num_levels=7,\n",
    "                                    num_points=50,\n",
    "                                    show_magnets = True,\n",
    "                                    xmax = 40,\n",
    "                                    ymax = 40,\n",
    "                                    zmax = 40,\n",
    "                                    unit = 'mm',\n",
    "                                    opacityscale = 'normal',\n",
    "                                    isomin=0.05,\n",
    "                                    isomax=0.3,\n",
    "                                   )\n"
   ]
  }
 ],
 "metadata": {
  "kernelspec": {
   "display_name": "Python 3",
   "language": "python",
   "name": "python3"
  },
  "language_info": {
   "codemirror_mode": {
    "name": "ipython",
    "version": 3
   },
   "file_extension": ".py",
   "mimetype": "text/x-python",
   "name": "python",
   "nbconvert_exporter": "python",
   "pygments_lexer": "ipython3",
   "version": "3.9.7"
  }
 },
 "nbformat": 4,
 "nbformat_minor": 5
}
