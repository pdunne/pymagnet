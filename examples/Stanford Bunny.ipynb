{
 "cells": [
  {
   "cell_type": "markdown",
   "id": "684b3264",
   "metadata": {},
   "source": [
    "# The magnetic field due to the Stanford Bunny\n",
    "\n",
    "The Standford Bunny is a classic example of a non-convex surface which is commonly used as a demonstrator object in 3D printing and 3D graphics. The original stl file contains ~100k polygons. As the magnetic field routines loop over each polygon in the mesh in Python the loops are slow. This particular example uses a version of the mesh with 500 polygons. A version with 10k vertices is also included in the example folder."
   ]
  },
  {
   "cell_type": "code",
   "execution_count": null,
   "id": "6f6401b0",
   "metadata": {},
   "outputs": [],
   "source": [
    "%matplotlib inline\n",
    "# %matplotlib notebook\n",
    "%config InlineBackend.figure_format = 'retina'\n",
    "import pymagnet as pm\n",
    "import numpy as np"
   ]
  },
  {
   "cell_type": "code",
   "execution_count": null,
   "id": "7fd57ad2",
   "metadata": {},
   "outputs": [],
   "source": [
    "pm.reset_magnets()\n",
    "\n",
    "mask_magnet = False # mask values inside a magnet\n",
    "show_magnets = True  # draw magnet in plots\n",
    "\n",
    "mesh_file = \"Stanford_Bunny_500.stl\"\n",
    "\n",
    "\n",
    "center = (-30.0, 10.0, -50.0)\n",
    "\n",
    "\n",
    "m_mesh = pm.magnets.Mesh(\n",
    "    filename = 'stl/'+ mesh_file,\n",
    "    Jr=1.0,\n",
    "    center=center,\n",
    "    theta=0,\n",
    "    phi=0,\n",
    "    alpha=225,\n",
    "    beta=0,\n",
    "    gamma=0,\n",
    ")\n",
    "\n",
    "\n",
    "fig = pm.plots.plot_magnet()"
   ]
  },
  {
   "cell_type": "code",
   "execution_count": null,
   "id": "e165e0e0",
   "metadata": {},
   "outputs": [],
   "source": [
    "len(m_mesh.mesh_vectors)"
   ]
  },
  {
   "cell_type": "code",
   "execution_count": null,
   "id": "b9987407",
   "metadata": {},
   "outputs": [],
   "source": [
    "fig, slice_cache, data_objects = pm.plots.slice_quickplot(\n",
    "    cmax=0.3,\n",
    "    num_levels=6,\n",
    "    num_points=40,\n",
    "    opacity=0.7,\n",
    "    num_arrows=10,\n",
    "    cone_opacity=0.1,\n",
    "    mask_magnet=mask_magnet,\n",
    "    show_magnets=show_magnets,\n",
    "    colorscale=\"viridis\",\n",
    "    max1=70,\n",
    "    max2=70,\n",
    "    slice_value=0.0,\n",
    ")"
   ]
  },
  {
   "cell_type": "code",
   "execution_count": null,
   "id": "f2aeee2d",
   "metadata": {},
   "outputs": [],
   "source": [
    "for plane in slice_cache.keys():\n",
    "    pm.plots.plot_3D_contour(slice_cache[plane]['points'], slice_cache[plane]['field'], plane,\n",
    "                             cmin = 0,\n",
    "                             cmax=0.3,\n",
    "                             num_levels=4,\n",
    "                             cmap='viridis',\n",
    "                             \n",
    "                             vector_plot=True,\n",
    "                             vector_arrows = 11,\n",
    "#                              vector_color = 'k'\n",
    "#                              plot_type=\"streamplot\",\n",
    "    #                          stream_color= 'vertical'\n",
    "                            )\n"
   ]
  },
  {
   "cell_type": "code",
   "execution_count": null,
   "id": "efa7cb0c",
   "metadata": {},
   "outputs": [],
   "source": [
    "fig_vol, vol_cache, data_objects = pm.plots.volume_quickplot(cmin=0.0,\n",
    "                                    cmax=0.5,\n",
    "                                    opacity=0.3,\n",
    "                                    magnet_opacity=1.0,\n",
    "                                    colorscale='viridis',\n",
    "                                    no_caps=True,\n",
    "                                    num_levels=6,\n",
    "                                    num_points=30,\n",
    "                                    show_magnets = True,\n",
    "                                    xmax = 70,\n",
    "                                    ymax = 70,\n",
    "                                    zmax = 70,\n",
    "                                    unit = 'mm',\n",
    "                                    opacityscale = 'max',\n",
    "#                                     isomin=0.05,\n",
    "#                                     isomax=0.5,\n",
    "                                   )\n"
   ]
  },
  {
   "cell_type": "code",
   "execution_count": null,
   "id": "1a38ea55",
   "metadata": {},
   "outputs": [],
   "source": []
  }
 ],
 "metadata": {
  "kernelspec": {
   "display_name": "Python 3",
   "language": "python",
   "name": "python3"
  },
  "language_info": {
   "codemirror_mode": {
    "name": "ipython",
    "version": 3
   },
   "file_extension": ".py",
   "mimetype": "text/x-python",
   "name": "python",
   "nbconvert_exporter": "python",
   "pygments_lexer": "ipython3",
   "version": "3.8.8"
  }
 },
 "nbformat": 4,
 "nbformat_minor": 5
}
