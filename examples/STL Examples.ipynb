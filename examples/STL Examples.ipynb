{
 "cells": [
  {
   "cell_type": "code",
   "execution_count": null,
   "id": "ee47f817",
   "metadata": {},
   "outputs": [],
   "source": [
    "%matplotlib inline\n",
    "# %matplotlib notebook\n",
    "%config InlineBackend.figure_format = 'retina'\n",
    "import pymagnet as pm\n",
    "import numpy as np"
   ]
  },
  {
   "cell_type": "code",
   "execution_count": null,
   "id": "46656ddc",
   "metadata": {},
   "outputs": [],
   "source": [
    "PI = np.pi\n",
    "u0 = PI * 4e-7\n",
    "\n",
    "def gen_mesh_mag(path, file, Jr=1.0, theta=0, phi=0, alpha=0, beta=0, gamma=0):\n",
    "    pm.reset_magnets()\n",
    "\n",
    "    if file == \"HalfDonut.stl\":\n",
    "        center = (-1.5, 0.1, -1.5)\n",
    "    elif file == \"hollow_hex.stl\":\n",
    "        center = (-0.86603, -0.5, -0.75019)\n",
    "    elif file == \"star.stl\":\n",
    "        center = (-0.8518, -0.5, -1)\n",
    "    elif file == \"cube.stl\":\n",
    "        center = (-1, -1, -1)\n",
    "        # center = (-1, -1, 0)\n",
    "    elif file == \"pentagon_prism.stl\":\n",
    "        center = (-1.17557, -0.5, -2.236 / 2)\n",
    "    else:\n",
    "        center = (0, 0, 0)\n",
    "    m_mesh = pm.magnets.Mesh(\n",
    "        path + file,\n",
    "        Jr=Jr,\n",
    "        center=center,\n",
    "        theta=theta,\n",
    "        phi=phi,\n",
    "        alpha=alpha,\n",
    "        beta=beta,\n",
    "        gamma=gamma,\n",
    "    )\n",
    "    return m_mesh"
   ]
  },
  {
   "cell_type": "code",
   "execution_count": null,
   "id": "e8cb2701",
   "metadata": {},
   "outputs": [],
   "source": [
    "mask_magnet = False  # mask values inside a magnet - doesn't work for Mesh magnets\n",
    "show_magnets = True  # draw magnet in plots\n",
    "\n",
    "mesh_list = [\"hollow_hex.stl\", \"cube.stl\", \"star.stl\", \"pentagon_prism.stl\", \"HalfDonut.stl\"]\n",
    "\n",
    "mesh_file = mesh_list[0]\n",
    "print(mesh_file)\n",
    "mesh_magnet = gen_mesh_mag(\n",
    "    path ='stl/',\n",
    "    file = mesh_file,\n",
    "    Jr=1.0,\n",
    "    theta=0,\n",
    "    phi=0,\n",
    "    alpha=0,\n",
    "    beta=0,\n",
    "    gamma=0,\n",
    ")\n",
    "\n",
    "\n",
    "\n",
    "fig = pm.plots.plot_magnet()"
   ]
  },
  {
   "cell_type": "code",
   "execution_count": null,
   "id": "5ea630b8",
   "metadata": {},
   "outputs": [],
   "source": [
    "fig, slice_cache, data_objects = pm.plots.slice_quickplot(\n",
    "    cmax=0.3,\n",
    "    num_levels=6,\n",
    "    num_points=40,\n",
    "    opacity=0.7,\n",
    "    num_arrows=10,\n",
    "    cone_opacity=0.1,\n",
    "    mask_magnet=mask_magnet,\n",
    "    show_magnets=show_magnets,\n",
    "    colorscale=\"viridis\",\n",
    "    max1=2,\n",
    "    max2=2,\n",
    "    slice_value=0.0,\n",
    ")"
   ]
  },
  {
   "cell_type": "code",
   "execution_count": null,
   "id": "73c8b1f7",
   "metadata": {},
   "outputs": [],
   "source": [
    "for plane in slice_cache.keys():\n",
    "    pm.plots.plot_3D_contour(slice_cache[plane]['points'], slice_cache[plane]['field'], plane,\n",
    "                             cmin = 0,\n",
    "                             cmax=0.3,\n",
    "                             num_levels=4,\n",
    "                             cmap='viridis',\n",
    "                             vector_plot=True,\n",
    "                             vector_arrows = 11,\n",
    "#                              vector_color = 'k'\n",
    "                            )"
   ]
  },
  {
   "cell_type": "code",
   "execution_count": null,
   "id": "96aa723b",
   "metadata": {},
   "outputs": [],
   "source": [
    "for plane in slice_cache.keys():\n",
    "    pm.plots.plot_3D_contour(slice_cache[plane]['points'], slice_cache[plane]['field'], plane,\n",
    "                             cmin = -0.1,\n",
    "                             cmax=0.1,\n",
    "                             num_levels=4,\n",
    "                             cmap='seismic',\n",
    "                             plot_type=\"streamplot\",\n",
    "                             stream_color= 'vertical'\n",
    "                            )"
   ]
  },
  {
   "cell_type": "code",
   "execution_count": null,
   "id": "ab45baf0",
   "metadata": {},
   "outputs": [],
   "source": [
    "fig_vol, vol_cache, data_objects = pm.plots.volume_quickplot(cmin=0.0,\n",
    "                                    cmax=0.5,\n",
    "                                    opacity=0.3,\n",
    "                                    magnet_opacity=1.0,\n",
    "                                    colorscale='viridis',\n",
    "                                    no_caps=True,\n",
    "                                    num_levels=6,\n",
    "                                    num_points=30,\n",
    "                                    show_magnets = True,\n",
    "                                    xmax = 2,\n",
    "                                    ymax = 2,\n",
    "                                    zmax = 2,\n",
    "                                    unit = 'mm',\n",
    "                                    opacityscale = 'max',\n",
    "#                                     isomin=0.05,\n",
    "#                                     isomax=0.5,\n",
    "                                   )\n"
   ]
  },
  {
   "cell_type": "code",
   "execution_count": null,
   "id": "a3fc84ab",
   "metadata": {},
   "outputs": [],
   "source": []
  }
 ],
 "metadata": {
  "kernelspec": {
   "display_name": "Python 3",
   "language": "python",
   "name": "python3"
  },
  "language_info": {
   "codemirror_mode": {
    "name": "ipython",
    "version": 3
   },
   "file_extension": ".py",
   "mimetype": "text/x-python",
   "name": "python",
   "nbconvert_exporter": "python",
   "pygments_lexer": "ipython3",
   "version": "3.8.8"
  }
 },
 "nbformat": 4,
 "nbformat_minor": 5
}
