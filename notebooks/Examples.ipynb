{
 "cells": [
  {
   "cell_type": "code",
   "execution_count": 1,
   "metadata": {},
   "outputs": [],
   "source": [
    "%matplotlib notebook\n",
    "%config InlineBackend.figure_format = 'retina'\n",
    "%config IPCompleter.greedy=True\n",
    "%load_ext autoreload\n",
    "%autoreload 2\n",
    "\n",
    "\n",
    "import sys\n"
   ]
  },
  {
   "cell_type": "code",
   "execution_count": 2,
   "metadata": {},
   "outputs": [],
   "source": [
    "sys.path.append('/Users/peter/Documents/4months/python/pymagnet/src')"
   ]
  },
  {
   "cell_type": "code",
   "execution_count": 7,
   "metadata": {
    "scrolled": false
   },
   "outputs": [
    {
     "output_type": "execute_result",
     "data": {
      "text/plain": [
       "['Cube',\n",
       " 'Cylinder',\n",
       " 'Magnet',\n",
       " 'Magnet_2D',\n",
       " 'Magnet_3D',\n",
       " 'Point2',\n",
       " 'Point3',\n",
       " 'Prism',\n",
       " 'Rectangle',\n",
       " 'Square',\n",
       " 'Vector2',\n",
       " 'Vector3',\n",
       " '__builtins__',\n",
       " '__cached__',\n",
       " '__doc__',\n",
       " '__file__',\n",
       " '__loader__',\n",
       " '__name__',\n",
       " '__package__',\n",
       " '__path__',\n",
       " '__spec__',\n",
       " '_fields',\n",
       " '_magnet',\n",
       " '_magnet1',\n",
       " '_magnet2',\n",
       " '_magnet3',\n",
       " 'list_magnets',\n",
       " 'magnetic_field_cylinder_1D',\n",
       " 'magnetic_field_prism_1D',\n",
       " 'reset_magnets']"
      ]
     },
     "metadata": {},
     "execution_count": 7
    }
   ],
   "source": [
    "import pymagnet as mag\n",
    "# dir(mag)\n",
    "dir(mag.magnets)"
   ]
  },
  {
   "cell_type": "code",
   "execution_count": 4,
   "metadata": {},
   "outputs": [
    {
     "output_type": "execute_result",
     "data": {
      "text/plain": [
       "['PI',\n",
       " 'PI_2',\n",
       " 'PI_4',\n",
       " '__all__',\n",
       " '__builtins__',\n",
       " '__cached__',\n",
       " '__doc__',\n",
       " '__file__',\n",
       " '__loader__',\n",
       " '__name__',\n",
       " '__package__',\n",
       " '__path__',\n",
       " '__spec__',\n",
       " 'magnets',\n",
       " 'plot',\n",
       " 'u0']"
      ]
     },
     "metadata": {},
     "execution_count": 4
    }
   ],
   "source": [
    "dir(mag)"
   ]
  },
  {
   "cell_type": "code",
   "execution_count": 5,
   "metadata": {},
   "outputs": [
    {
     "output_type": "error",
     "ename": "AttributeError",
     "evalue": "module 'pymagnet.magnets' has no attribute 'Magnet_Cylinder'",
     "traceback": [
      "\u001b[0;31m---------------------------------------------------------------------------\u001b[0m",
      "\u001b[0;31mAttributeError\u001b[0m                            Traceback (most recent call last)",
      "\u001b[0;32m<ipython-input-5-ac6ee56673d8>\u001b[0m in \u001b[0;36m<module>\u001b[0;34m\u001b[0m\n\u001b[1;32m      4\u001b[0m                             center=(0.0, 0.0, 0))\n\u001b[1;32m      5\u001b[0m \u001b[0;34m\u001b[0m\u001b[0m\n\u001b[0;32m----> 6\u001b[0;31m \u001b[0mmag\u001b[0m\u001b[0;34m.\u001b[0m\u001b[0mplot\u001b[0m\u001b[0;34m.\u001b[0m\u001b[0mplot_1D_field\u001b[0m\u001b[0;34m(\u001b[0m\u001b[0mm_cyl\u001b[0m\u001b[0;34m)\u001b[0m\u001b[0;34m;\u001b[0m\u001b[0;34m\u001b[0m\u001b[0;34m\u001b[0m\u001b[0m\n\u001b[0m",
      "\u001b[0;32m~/Documents/4months/python/pymagnet/src/pymagnet/plot.py\u001b[0m in \u001b[0;36mplot_1D_field\u001b[0;34m(magnet, **kwargs)\u001b[0m\n\u001b[1;32m      9\u001b[0m \u001b[0;34m\u001b[0m\u001b[0m\n\u001b[1;32m     10\u001b[0m     \u001b[0mNP\u001b[0m \u001b[0;34m=\u001b[0m \u001b[0mkwargs\u001b[0m\u001b[0;34m.\u001b[0m\u001b[0mpop\u001b[0m\u001b[0;34m(\u001b[0m\u001b[0;34m'NP'\u001b[0m\u001b[0;34m,\u001b[0m \u001b[0;36m101\u001b[0m\u001b[0;34m)\u001b[0m\u001b[0;34m\u001b[0m\u001b[0;34m\u001b[0m\u001b[0m\n\u001b[0;32m---> 11\u001b[0;31m     \u001b[0;32mif\u001b[0m \u001b[0missubclass\u001b[0m\u001b[0;34m(\u001b[0m\u001b[0mmagnet\u001b[0m\u001b[0;34m.\u001b[0m\u001b[0m__class__\u001b[0m\u001b[0;34m,\u001b[0m \u001b[0m_mag\u001b[0m\u001b[0;34m.\u001b[0m\u001b[0mMagnet_Cylinder\u001b[0m\u001b[0;34m)\u001b[0m\u001b[0;34m:\u001b[0m\u001b[0;34m\u001b[0m\u001b[0;34m\u001b[0m\u001b[0m\n\u001b[0m\u001b[1;32m     12\u001b[0m         \u001b[0mmag_boundary\u001b[0m \u001b[0;34m=\u001b[0m \u001b[0mmagnet\u001b[0m\u001b[0;34m.\u001b[0m\u001b[0mL\u001b[0m\u001b[0;34m/\u001b[0m\u001b[0;36m2\u001b[0m\u001b[0;34m\u001b[0m\u001b[0;34m\u001b[0m\u001b[0m\n\u001b[1;32m     13\u001b[0m \u001b[0;34m\u001b[0m\u001b[0m\n",
      "\u001b[0;31mAttributeError\u001b[0m: module 'pymagnet.magnets' has no attribute 'Magnet_Cylinder'"
     ]
    }
   ],
   "source": [
    "R = 5e-3\n",
    "L = 25e-3\n",
    "m_cyl = mag.magnets.Cylinder(R = R, L = L, Jr = 1.2,\n",
    "                            center=(0.0, 0.0, 0))\n",
    "\n",
    "mag.plot.plot_1D_field(m_cyl);"
   ]
  },
  {
   "cell_type": "code",
   "execution_count": 6,
   "metadata": {},
   "outputs": [
    {
     "output_type": "error",
     "ename": "AttributeError",
     "evalue": "module 'pymagnet.magnets' has no attribute 'Magnet_Prism'",
     "traceback": [
      "\u001b[0;31m---------------------------------------------------------------------------\u001b[0m",
      "\u001b[0;31mAttributeError\u001b[0m                            Traceback (most recent call last)",
      "\u001b[0;32m<ipython-input-6-ddd1c0883a31>\u001b[0m in \u001b[0;36m<module>\u001b[0;34m\u001b[0m\n\u001b[1;32m      2\u001b[0m \u001b[0mb\u001b[0m \u001b[0;34m=\u001b[0m \u001b[0;36m2\u001b[0m\u001b[0;34m*\u001b[0m\u001b[0ma\u001b[0m\u001b[0;34m\u001b[0m\u001b[0;34m\u001b[0m\u001b[0m\n\u001b[1;32m      3\u001b[0m \u001b[0mc\u001b[0m \u001b[0;34m=\u001b[0m \u001b[0;36m3\u001b[0m\u001b[0;34m*\u001b[0m\u001b[0ma\u001b[0m\u001b[0;34m\u001b[0m\u001b[0;34m\u001b[0m\u001b[0m\n\u001b[0;32m----> 4\u001b[0;31m m_quad = mag.magnets.Magnet_Prism(a= a, b = b, c=c, Jr = 1.0,\n\u001b[0m\u001b[1;32m      5\u001b[0m                             center=(0.0, 0.0, -c))\n\u001b[1;32m      6\u001b[0m \u001b[0;34m\u001b[0m\u001b[0m\n",
      "\u001b[0;31mAttributeError\u001b[0m: module 'pymagnet.magnets' has no attribute 'Magnet_Prism'"
     ]
    }
   ],
   "source": [
    "a = 10.0e-3\n",
    "b = 2*a\n",
    "c = 3*a\n",
    "m_quad = mag.magnets.Magnet_Prism(a= a, b = b, c=c, Jr = 1.0,\n",
    "                            center=(0.0, 0.0, -c))\n",
    "\n",
    "mag.plot.plot_1D_field(m_quad);"
   ]
  },
  {
   "cell_type": "code",
   "execution_count": 14,
   "metadata": {},
   "outputs": [
    {
     "ename": "AttributeError",
     "evalue": "module 'pymagma' has no attribute 'grid2D'",
     "output_type": "error",
     "traceback": [
      "\u001b[0;31m---------------------------------------------------------------------------\u001b[0m",
      "\u001b[0;31mAttributeError\u001b[0m                            Traceback (most recent call last)",
      "\u001b[0;32m<ipython-input-14-5e38a25fe572>\u001b[0m in \u001b[0;36m<module>\u001b[0;34m\u001b[0m\n\u001b[1;32m      8\u001b[0m \u001b[0;34m\u001b[0m\u001b[0m\n\u001b[1;32m      9\u001b[0m \u001b[0;34m\u001b[0m\u001b[0m\n\u001b[0;32m---> 10\u001b[0;31m \u001b[0mx\u001b[0m\u001b[0;34m,\u001b[0m \u001b[0my\u001b[0m \u001b[0;34m=\u001b[0m \u001b[0mmag\u001b[0m\u001b[0;34m.\u001b[0m\u001b[0mgrid2D\u001b[0m\u001b[0;34m(\u001b[0m\u001b[0;36m4\u001b[0m\u001b[0;34m*\u001b[0m\u001b[0ma\u001b[0m\u001b[0;34m,\u001b[0m \u001b[0;36m2\u001b[0m\u001b[0;34m*\u001b[0m\u001b[0mb\u001b[0m\u001b[0;34m)\u001b[0m\u001b[0;34m\u001b[0m\u001b[0;34m\u001b[0m\u001b[0m\n\u001b[0m\u001b[1;32m     11\u001b[0m \u001b[0mB\u001b[0m \u001b[0;34m=\u001b[0m \u001b[0mmag\u001b[0m\u001b[0;34m.\u001b[0m\u001b[0mB_calc_2D\u001b[0m\u001b[0;34m(\u001b[0m\u001b[0mx\u001b[0m\u001b[0;34m,\u001b[0m \u001b[0my\u001b[0m\u001b[0;34m,\u001b[0m \u001b[0mmag\u001b[0m\u001b[0;34m.\u001b[0m\u001b[0mmagnets\u001b[0m\u001b[0;34m.\u001b[0m\u001b[0mMagnet_Rectangle\u001b[0m\u001b[0;34m)\u001b[0m\u001b[0;34m\u001b[0m\u001b[0;34m\u001b[0m\u001b[0m\n\u001b[1;32m     12\u001b[0m \u001b[0;34m\u001b[0m\u001b[0m\n",
      "\u001b[0;31mAttributeError\u001b[0m: module 'pymagma' has no attribute 'grid2D'"
     ]
    }
   ],
   "source": [
    "mag.magnets.reset_magnets();\n",
    "a = 10e-3\n",
    "b = 20e-3\n",
    "center = (-1.5*a, 0)\n",
    "m_rec1 = mag.magnets.Magnet_Rectangle(a = a, b = b, Jr = 1.0, center=center, theta = 45.0)\n",
    "center = (1.5*a, 0)\n",
    "m_rec2 = mag.magnets.Magnet_Rectangle(a = a, b = b, Jr = 1.0, center=center, theta = -45.0)\n",
    "\n",
    "\n",
    "x, y = mag.grid2D(4*a, 2*b)\n",
    "B = mag.B_calc_2D(x, y, mag.magnets.Magnet_Rectangle)\n",
    "\n",
    "patch_array = mag.plot._num_patch_2D(mag.magnets.Magnet_Rectangle)\n",
    "mag.plot.plot_2D_contour(x, y, B, patch_array = patch_array, UL=.6, NL=13)"
   ]
  },
  {
   "cell_type": "code",
   "execution_count": 67,
   "metadata": {},
   "outputs": [
    {
     "data": {
      "text/plain": [
       "['Magnet',\n",
       " 'Magnet_2D',\n",
       " 'Magnet_3D',\n",
       " 'Magnet_Cube',\n",
       " 'Magnet_Cylinder',\n",
       " 'Magnet_Prism',\n",
       " 'Magnet_Rectangle',\n",
       " 'Magnet_Square',\n",
       " 'Point2',\n",
       " 'Point3',\n",
       " 'Vector2',\n",
       " 'Vector3',\n",
       " '__builtins__',\n",
       " '__cached__',\n",
       " '__file__',\n",
       " '__loader__',\n",
       " '__name__',\n",
       " '__package__',\n",
       " '__path__',\n",
       " '__spec__',\n",
       " 'magnetic_field_cylinder_1D',\n",
       " 'magnetic_field_prism_1D']"
      ]
     },
     "execution_count": 67,
     "metadata": {},
     "output_type": "execute_result"
    }
   ],
   "source": [
    "dir(mag.magnets)"
   ]
  },
  {
   "cell_type": "code",
   "execution_count": null,
   "metadata": {},
   "outputs": [],
   "source": []
  }
 ],
 "metadata": {
  "kernelspec": {
   "display_name": "Python 3",
   "language": "python",
   "name": "python3"
  },
  "language_info": {
   "codemirror_mode": {
    "name": "ipython",
    "version": 3
   },
   "file_extension": ".py",
   "mimetype": "text/x-python",
   "name": "python",
   "nbconvert_exporter": "python",
   "pygments_lexer": "ipython3",
   "version": "3.8.5-final"
  }
 },
 "nbformat": 4,
 "nbformat_minor": 4
}